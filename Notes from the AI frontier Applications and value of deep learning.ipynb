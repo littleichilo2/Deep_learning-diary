{
 "cells": [
  {
   "cell_type": "markdown",
   "metadata": {},
   "source": [
    "An analysis of more than 400 use cases across 19 industries and nine business functions highkights the broad use and significant economic potential of advanced AI technuques.\n",
    "\n",
    "**Artifical intellience(AI)** stands out as a transformational technology of our digital age-and its practical application throughtout the economy is growing space. For this briefing, Note from the AI fontier: Insights from hundreds of use cases, we mapped both traditional analytics and newer \"deep learning\" techniques and the problems they can solve to more than 400 specific use cases in companies and organizations. Drawing on McKinsey Global Institute research and the applied experience with AI of McKinsey Analytics, we assess both the practical applications and the economic potential of advanced AI techniques across industries and bussiness functions. Our findings highlight the substantial potential of applying deep learning techniques to use cases across the economy, but we also see some continuing limitations and obstacles-along woth future opportunitiesw as the technologies continue their advance. Ultimately, the value of AI is not to be found in the models themseleves, but in companies' abilities to harness them.\n",
    "\n",
    "It is important to highlight that, even as we see economic potential in the use of AI techniques, the use of data must always take into account concerns including data security, privacy, and potential issues of bias.\n",
    "\n",
    "1. Mapping AI techniques to problem types\n",
    "1. Insights from use cases\n",
    "1. Sizing the potential value of AI\n",
    "1. The road to impact and value\n"
   ]
  },
  {
   "cell_type": "markdown",
   "metadata": {},
   "source": [
    "***\n",
    "# Mapping AI techniques to problem types\n",
    "\n",
    "As artuficial intelligence technologies advance, so does the definition of which techniques constitute AI. For the purposes of this briefing, we use AI as shorthand for deep learning techniques that use artificial neural networks. We also examined other machine learning techniques and traditional analytics techniques(Exhibit 1).\n",
    "\n",
    "https://www.mckinsey.com/~/media/McKinsey/Global%20Themes/Artificial%20Intelligence/Notes%20from%20the%20AI%20frontier%20Applications%20and%20value%20of%20deep%20learning/SVGZ-AI-Impact-Ex1.ashx\n",
    "\n",
    "Neural networks are subset of machine learning techniques. Essentially, they are AI systems based on simulating connected \"neural units,\" loosely modeling the way that neurons interact in the brain. Computational models inspired by neural connections have been studied since the 1940s and have returned to prominence as computer processing power has increased and large training data sets have been used to successfully analyze input data such as images, video, and speech. AI practitioners refer to these techniques as \"deep learning,\" sincec neural networks have many (\"deep\") layers of simulated interconnected neurons.\n",
    "\n",
    "We analyzed the applications and value of three neural network techniques:\n",
    "- *Feed forward neural networks*: the simplest type of artificial neural network. In this architecture, information moves in only one direction, forward, from the input layer, through the \"hidden\" layers, to the output layer. There are no loops in the network. The first single-neuron network was proposed already in 1958 by AI pioneer Frank Rosenblatt. While the idea is not new, advances in computing power, training algorithms, and available data led to higher levels of performance than previously possible.\n",
    "\n",
    "- *Recureent neural networks(RNNs)*: Artificial neural networks whose connections between neurons include loops, well-suited for processing sequences of inputs. In November 2016, Oxford University researchers reported that a system based on recurrent neural networks (and convolutional neural networks) had achieved 95 percent accuracy in reading lips, outperforming experienced human lip readers, who tested at 52 percent accuracy. \n",
    "\n",
    "- *Convolutional neural neworks(CNN)*: artificial neural networks in which the connections between neural layers are inspired by the organization of the animal visual cortex, the portion of the brain that processes images well suited for perceptual tasks.\n",
    "\n",
    "For our use cases, we also considered two other techniques-generative adversarial networks(GANs) and reinforcement learning-but did not include them in our potential value assessment of AI, since they remain nascent techniques that are not yet widely applied.\n",
    "\n",
    "**Generative adversarial networks(GANs)** use two neural networks contesting one other in a zero-sum game framework(thus \"adversarial\"). GANs can learn to mimic various distributions of data (for example text, speech, and images) and are therefore valuable in generating test datasets when these are not readily available.\n",
    "\n",
    "**Reinforcement learning** is s subfield of machine learning in which systems are trained by receiving virtual \"rewards\" or \"punishments\", essentially learning by trial and error. Google DeepMind has used reinforcement learning to develop systems that can play games, including video games and board games such as Go, better than human champions.\n",
    "\n",
    "In a business setting, these analttic techniques can be applied to solve read-life problems. The most prevalent problem types are classification, continuous estimation and clustering. A list of problem types and their definitions is available in the sidebar.\n",
    "\n"
   ]
  },
  {
   "cell_type": "markdown",
   "metadata": {},
   "source": [
    "***"
   ]
  }
 ],
 "metadata": {
  "kernelspec": {
   "display_name": "Python 3",
   "language": "python",
   "name": "python3"
  },
  "language_info": {
   "codemirror_mode": {
    "name": "ipython",
    "version": 3
   },
   "file_extension": ".py",
   "mimetype": "text/x-python",
   "name": "python",
   "nbconvert_exporter": "python",
   "pygments_lexer": "ipython3",
   "version": "3.6.3"
  }
 },
 "nbformat": 4,
 "nbformat_minor": 2
}
