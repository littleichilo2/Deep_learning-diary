{
 "cells": [
  {
   "cell_type": "markdown",
   "metadata": {},
   "source": [
    "# Central Limit Theorem\n",
    "\n",
    "The Central Limit Theorem, or CLT for short, is an important finding and pillar in the fields of statistics and probability.\n",
    "\n",
    "The theorem states that as the size of the sample increases, the distribution of the mean across multiple samples will approximate a Gaussian distribution.\n",
    "\n",
    "We can imagine performing a trial and getting a result or an observation. We can repeat the trial again and get a new independent observation. Collected together, multiple observations represents a sample of observations.\n",
    "\n",
    "A sample is a group of observations form a broader population of all possible observations that could be made given trials.\n",
    "\n",
    "If we calculate the mean of a sample, it will be an estimate of the population distribution. But, like any estimate it will be wrong and will contain some error. If we draw multiple independent samples, and calculate their means, the distribution of those means will form a Gaussian distribu\n",
    "tion.\n",
    "\n",
    "It is important that each trail that results in an observation be independent and performed in the same way. This is to ensure that the sample is drawing from the same underlying population distribution. More formally, this expectation is referred to as independent and identically distributed, or iid.\n",
    "\n",
    "Firstly, the central limit theorem is impressive, especially as this will occur no matter the shape of the population distribution from which we are drawing samples. It demonstrates that the distribution of errores from estimating the population mean fit a distribution that the field of statistics knows a lot about.\n",
    "\n",
    "Secondly, ,this estimate of the Gaussian distribution will be more accurate as the size of the start making inferences about the means of samples drawn from a population, that these inferences will become more useful as we increase out sample size. \n",
    "\n",
    "One interesting implication of the central limit central limit theorem mentioned to me one time by a very clever scientist is that you can use it to generate Gaussian random numbers. You can generate uniformly random integers, sum groups of them together, and the results of the sums will be Gaussian. Remeber that the mean is just the normalized sum of the sample. It's a slower method for generating random Gaussian variables than other methods (like the Box-Muller method), but a clear (and clever) application of the theorem.\n",
    "\n",
    "## Law of Large Numbers \n",
    "\n",
    "The central limit theorem os often confused with the law of large numbers by beginners.\n",
    "\n",
    "The law of large numbers is another different theorem from statistics. It is simpler in that it states that as the size of a sample is increased, the more accurate of an estimate the sample mean will be of the population mean.\n",
    "\n",
    "The central limit theorem does not state anything about a single sample mean; instead, it is broader and states something about the shape or the distribution of sample means.\n",
    "\n",
    "The law of large numbers is intuitive. It is why we thinl that collecting more data will lead to a more representative sample of observations from the domain. The theorem is not intuitive. Instead, it is a finding that we can exploit in order to make claims about sample means.\n",
    "\n",
    "# Worked Example with Dice\n",
    "\n",
    "We can make the central limit theorem concrete with a worked example involving the rolling of die.\n",
    "\n",
    "Remember that a die is a cube with a different number on each side from 1-to-6. Each number has a 1-in-6 likelihood to turn up from a roll. The distribution of the numbers that turn up from a dice roll is uniform giver the equal likelihood.\n",
    "\n",
    "We can use the randint() NumPy function to generate a specific number of random dice rolls (e.g. 50) between 1 and 6.\n",
    "\n",
    "The complete example is listed below."
   ]
  },
  {
   "cell_type": "code",
   "execution_count": 1,
   "metadata": {},
   "outputs": [
    {
     "name": "stdout",
     "output_type": "stream",
     "text": [
      "[6 4 5 1 2 4 6 1 1 2 5 6 5 2 3 5 6 3 5 4 5 3 5 6 3 5 2 2 1 6 2 2 6 2 2 1 5\n",
      " 2 1 1 6 4 3 2 1 4 6 2 2 4]\n",
      "3.44\n"
     ]
    }
   ],
   "source": [
    "# generate random dice rolls\n",
    "from numpy.random import seed\n",
    "from numpy.random import randint\n",
    "from numpy import mean\n",
    "# seed the random number generator\n",
    "seed(1)\n",
    "# generate a sample of die rolls\n",
    "rolls = randint(1, 7, 50)\n",
    "print(rolls)\n",
    "print(mean(rolls))"
   ]
  },
  {
   "cell_type": "markdown",
   "metadata": {},
   "source": [
    "Running the example generates and prints the sample of 50 die rolls and the mean value of the sample.\n",
    "\n",
    "We know that the mean value of the distribution is 3.5 calculated as (1+2+3+4+5+6)/6 or 21/6.\n",
    "\n",
    "We can see that the mean of the sample is slightly wrong, which is to be expected because it is an estimate of the population mean.\n",
    "\n",
    "This is the result of rolling the simulated die 50 times.\n",
    "\n",
    "We can then repeat this process multiple times, such as 1000. This will give us a result of 1000 sample means. According to the central limit theorem, the distribution of these sample means will be Gaussian.\n",
    "\n",
    "The example below performs this experiment and plots the resulting distribution of sample means."
   ]
  },
  {
   "cell_type": "code",
   "execution_count": 2,
   "metadata": {},
   "outputs": [
    {
     "data": {
      "image/png": "[encoded data removed]",
      "text/plain": [
       "<matplotlib.figure.Figure at 0x1b41273f780>"
      ]
     },
     "metadata": {},
     "output_type": "display_data"
    }
   ],
   "source": [
    "# demonstration of the central limit theorem\n",
    "from numpy.random import seed\n",
    "from numpy.random import randint\n",
    "from numpy import mean\n",
    "from matplotlib import pyplot\n",
    "# seed the random number generator\n",
    "seed(1)\n",
    "# calculate the mean of 50 dice rolls 1000 times\n",
    "means = [mean(randint(1, 7, 50)) for _ in range(1000)]\n",
    "# plot the distribution of sample means\n",
    "pyplot.hist(means)\n",
    "pyplot.show()"
   ]
  },
  {
   "cell_type": "markdown",
   "metadata": {},
   "source": [
    "Running the example creates a histogram plot of the sample means.\n",
    "\n",
    "We can tell from the shape of the distribution that the distribution is Gaussian. It's interesting to note the amount of error in the sample mean that we can see in 1000 trials of 50 dice rolls.\n",
    "\n",
    "Further, the central limit theoren also states that as the size of each sample, in this case 50, is increased, then the better the sample means will approximate a Gaussian distribution.\n",
    "\n",
    "# Impact on Machine Learning\n",
    "\n",
    "The central limit theorem has important implications in applied machine learning.\n",
    "\n",
    "The theorem does inform the solution to linear algorithms such as linear regression, but not exotic methods like artificial neural networls that are solved using numerical optimization methods. Instead, we must use experiments to observe and record the behavior of the algorithms and use statisitical methods to interpret their results.\n",
    "\n",
    "Let's look at two important examples.\n",
    "\n",
    "## Signficance Tests\n",
    "\n",
    "In order to make inderences about the skull of a model compared to the skill of another model , we must use tools such as statistical significance tests.\n",
    "\n",
    "These tools estimate the likelihood that the two samples of model skill scores were drawn from the same population, then no difference between the models skill is assumed, and any actual differences are due to statistical noise.\n",
    "\n",
    "The ability to make inference claims like this is due to the central limit theorem and our knowledge of the Gaussian distribution and how likely the two sample means are to be a part of the same gaussian distribution of sample means.\n",
    "\n",
    "## Confidence Intervals \n",
    "\n",
    "Once we have trained a final model, we may wish to make an inference about how skillful the model is expected to be in practice.\n",
    "\n",
    "The presentation of this uncertainty is called a confidence interval.\n",
    "\n",
    "We can developmultiple independent (or close to independent) evaluations of a model accuracy to result in a population of candidate skill estimates. The mean of these skill estimates will be an estimate (with error) of the true underlying estimate of the model skill on the problem. \n",
    "\n",
    "With knowledge that the sample mean will be a part of a Gaussian distribution form the central limit theorem, we can use knowledge of the Gaussian distribution to estimate the likelihood of the sample mean based on the sample size and calculate an interval of desired confidence around the skill of the model.\n",
    "\n"
   ]
  }
 ],
 "metadata": {
  "kernelspec": {
   "display_name": "Python 3",
   "language": "python",
   "name": "python3"
  },
  "language_info": {
   "codemirror_mode": {
    "name": "ipython",
    "version": 3
   },
   "file_extension": ".py",
   "mimetype": "text/x-python",
   "name": "python",
   "nbconvert_exporter": "python",
   "pygments_lexer": "ipython3",
   "version": "3.6.3"
  }
 },
 "nbformat": 4,
 "nbformat_minor": 2
}
