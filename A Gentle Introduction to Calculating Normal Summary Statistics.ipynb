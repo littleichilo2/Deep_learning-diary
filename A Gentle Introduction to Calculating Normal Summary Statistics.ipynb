{
 "cells": [
  {
   "cell_type": "markdown",
   "metadata": {},
   "source": [
    "## Gaussian Distribution\n",
    "\n",
    "The most commmonly seen and therefore well-known distribution of continuous values is the bell curve. It is known as the \"normal\" distribution, because it the distribution that a lot of data falls into. It is also known as the Gaussian distribution, more formally, named for Carl Friedrich Gauss.\n",
    "\n",
    "Let's look at a normal distribution. Below is some code to generate and plot an idealized Gaussian distribution."
   ]
  },
  {
   "cell_type": "code",
   "execution_count": 1,
   "metadata": {},
   "outputs": [
    {
     "data": {
      "image/png": "[encoded data removed]",
      "text/plain": [
       "<matplotlib.figure.Figure at 0x2c89f782b70>"
      ]
     },
     "metadata": {},
     "output_type": "display_data"
    }
   ],
   "source": [
    "# generate and plot an idealized gaussian\n",
    "from numpy import arange\n",
    "from matplotlib import pyplot\n",
    "from scipy.stats import norm\n",
    "# x-axis for the plot\n",
    "x_axis = arange(-3, 3, 0.001)\n",
    "# y-axis as the gaussian\n",
    "y_axis = norm.pdf(x_axis, 0, 1)\n",
    "# plot data\n",
    "pyplot.plot(x_axis, y_axis)\n",
    "pyplot.show()"
   ]
  },
  {
   "cell_type": "markdown",
   "metadata": {},
   "source": [
    "The x-asix are the observations and the y-axis is the frequency of each observation. In this case, observations around 0.0 are the most common and observations around -3.0 and 3.0 are rare or unlikely.\n",
    "\n",
    "It is helpful when data is Gaussian or when we assume a Gaussian distribution for calculating statistics. This is because the Gaussian distribution is very well understood. So much so that large parts of the field of statistics are dedicated to methods for this distribution.\n",
    "\n",
    "Thankfully, many of the data we work with in machine learning often fits a Gaussian distribution, such as the input data we may use to fit a model, to the repeated evaluation of a model on different samples of training data.\n",
    "\n",
    "Not all data is Gaussian, and it is sometimes important to make this discovery either by reviewing histogram plots of the data or using statistical tests to check. Some examples of observations that do not fit a Gaussian distribution include:\n",
    "- People's incomes.\n",
    "- Population of cities.\n",
    "- Sales of books.\n",
    "\n",
    "## Sample vs Population\n",
    "\n",
    "We can think of data being generated by some unknown process.\n",
    "\n",
    "The data that we collect is called a data samplem, whereas all possible data could be collected is called the population. \n",
    "- Data Sample: A subset of observations from a group.\n",
    "- Data Population: All possible observations from a group.\n",
    "\n",
    "This is an important distinction because different statistical methods are used on samples vs populations, and in applied machine learning, we are often working with samples of data. If you read or use the word “population” when talking about data in machine learning, it very likely means sample when it comes to statistical methods.\n",
    "\n",
    "## Central Tendency \n",
    "\n",
    "The central tendency of a distribution refers to the middle or typical value in the distribution. The most common or most likely value.\n",
    "\n",
    "In the Gaussian distribution, the central tendency is called the mean, or more formally, the arithmetic mean, and is one of the two main parameters that defines any Gaussian distribution.\n",
    "\n",
    "The mean of a sample is calculated as the sum of the observations divided by the total number of observations in the sample.\n",
    "\n",
    "`mean=sum(data)/length(data)`\n",
    "\n",
    "It is also written in a more compact form as:\n",
    "\n",
    "`mean=1/length(data)*sum(data)`\n",
    "\n",
    "We can calculate the mean of a sample by using the mean() NumPy function on an array.\n",
    "\n",
    "`result=mean(data)`\n",
    "\n",
    "The example below demonstrates this on the test dataset developed in the previous section."
   ]
  },
  {
   "cell_type": "code",
   "execution_count": 2,
   "metadata": {},
   "outputs": [
    {
     "name": "stdout",
     "output_type": "stream",
     "text": [
      "Mean: 50.049\n"
     ]
    }
   ],
   "source": [
    "# calculate the mean of a sample\n",
    "from numpy.random import seed\n",
    "from numpy.random import randn\n",
    "from numpy import mean\n",
    "# seed the random number generator\n",
    "seed(1)\n",
    "# generate univariate observations\n",
    "data = 5 * randn(10000) + 50\n",
    "# calculate mean\n",
    "result = mean(data)\n",
    "print('Mean: %.3f' % result)"
   ]
  },
  {
   "cell_type": "markdown",
   "metadata": {},
   "source": [
    "Running the example calculates and prints the mean of the sample.\n",
    "\n",
    "This calculation of the arithmetic mean of the sample is an estimate of the parameter of the underlying Gaussian distribution of the population form which the sample was drawn. As an estimate, it will contain errors.\n",
    "\n",
    "Because we know the underlying distribution has the true mean of 50, we can see that the estimate from a sample of 10000 observations is reasonably accurate.\n",
    "\n",
    "The mean is easily influenced by outlier values, that is, rare values far from the mean. These may be legitimately rare observations on the edge of the distribution or errors.\n",
    "\n",
    "Further, the mean may be misleading. Calculating a mean on another distribution, such as a uniform distribution or power distribution, may not make a lot of sense as although the value can be calculated, it will refer to a seemingly arbitrary expected value rather than the true central tendency of the distribution.\n",
    "\n",
    "In the case of outliers or a non-Gaussian distribution, an alternate and commonly used central tendency to calculate is the median.\n",
    "\n",
    "The median is calculated by first sorting all data and then locating the middle value in the sample. This is straightforward if there is an odd number of observations. If there is an even number of observations, the median is calculated as the average of the middle two observations.\n",
    "\n",
    "We can calculate the median of a sample of an array by calling the median() NumPy function.\n",
    "\n",
    "`result=median(data)`\n",
    "\n",
    "The example below demonstrates thos on the test dataset."
   ]
  },
  {
   "cell_type": "code",
   "execution_count": 3,
   "metadata": {},
   "outputs": [
    {
     "name": "stdout",
     "output_type": "stream",
     "text": [
      "Median: 50.042\n"
     ]
    }
   ],
   "source": [
    "# calculate the median of a sample\n",
    "from numpy.random import seed\n",
    "from numpy.random import randn\n",
    "from numpy import median\n",
    "# seed the random number generator\n",
    "seed(1)\n",
    "# generate univariate observations\n",
    "data = 5 * randn(10000) + 50\n",
    "# calculate median\n",
    "result = median(data)\n",
    "print('Median: %.3f' % result)"
   ]
  },
  {
   "cell_type": "markdown",
   "metadata": {},
   "source": [
    "Running the example, we can see that median is calculated from the sample and printed.\n",
    "\n",
    "The result is not too dissimilar from the mean because the sample has a Gaussian distribution. If the data had a different (non-Gaussian) distribution, the median may be very different from the mean and perhaps a better reflection of the central tendency of the underlying population.\n",
    "\n",
    "## Variance\n",
    "\n",
    "The variance of a distribution refers to how much on average that observations vary or differ from the mean value.\n",
    "\n",
    "It is useful to think of the variance as a measure of the spread of a distribution. A low variance will have values grouped around the mean(e.g. a narrow bell shape), whereas a hign variance will have values spread out from the mean(e.g. a wide bell shape.)\n",
    "\n",
    "We can demonstrate this with an example, by plotting idealized Gaussians with low and high variance. The complete example is listed below."
   ]
  },
  {
   "cell_type": "code",
   "execution_count": 4,
   "metadata": {},
   "outputs": [
    {
     "data": {
      "image/png": "[encoded data removed]",
      "text/plain": [
       "<matplotlib.figure.Figure at 0x2c89f76ce10>"
      ]
     },
     "metadata": {},
     "output_type": "display_data"
    }
   ],
   "source": [
    "# generate and plot gaussians with different variance\n",
    "from numpy import arange\n",
    "from matplotlib import pyplot\n",
    "from scipy.stats import norm\n",
    "# x-axis for the plot\n",
    "x_axis = arange(-3, 3, 0.001)\n",
    "# plot low variance\n",
    "pyplot.plot(x_axis, norm.pdf(x_axis, 0, 0.5))\n",
    "# plot high variance\n",
    "pyplot.plot(x_axis, norm.pdf(x_axis, 0, 1))\n",
    "pyplot.show()"
   ]
  },
  {
   "cell_type": "markdown",
   "metadata": {},
   "source": [
    "Running the example plots two idealized Gaussian distributions: the blue with a low variance frouped around the meam and the orange with a higher variance with more spread."
   ]
  }
 ],
 "metadata": {
  "kernelspec": {
   "display_name": "Python 3",
   "language": "python",
   "name": "python3"
  },
  "language_info": {
   "codemirror_mode": {
    "name": "ipython",
    "version": 3
   },
   "file_extension": ".py",
   "mimetype": "text/x-python",
   "name": "python",
   "nbconvert_exporter": "python",
   "pygments_lexer": "ipython3",
   "version": "3.6.3"
  }
 },
 "nbformat": 4,
 "nbformat_minor": 2
}
