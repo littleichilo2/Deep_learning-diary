{
 "cells": [
  {
   "cell_type": "markdown",
   "metadata": {},
   "source": [
    "Often machine learning modeling and model skill in general can be improved by understanding and even removing these outlier values.\n",
    "\n",
    "You will discover more about about outliers and two statistical methods that you can use to identify and filter outliers from your dataset.\n",
    "\n",
    "### That an outlier is an unlikely obversation in a dataset and may have one of many causes.\n",
    "### That standard deviation can be used to identify outliers in Gaussuan or Gaussian-like data.\n",
    "### That the interquartile range can be used to identify outliers in data regardless of the distribution.\n",
    "\n",
    "Outliers can have many causes, such as:\n",
    "- Measurement or input error.\n",
    "- Data corruption.\n",
    "- True outlier observation(e.g. Michael Jordan in basketball).\n",
    "\n",
    "There is no precise way to define and identify outliers in general bacause of the specifics of each dataset. Instead, you, or a domain expert, must interpret the raw observations and decide whether a value is an outlier or not.\n",
    "\n",
    "We can user statistical methods to identify observations that appear to be rare or unlikely giver the available data. This doesn't mean that the values identified are outliers and should be removed. But, the tools described in this tutorial can be helpful in shedding light on rare events that may require a second look.\n"
   ]
  },
  {
   "cell_type": "markdown",
   "metadata": {},
   "source": [
    "## Standard Deviation Method\n",
    "\n",
    "We can calculate the mean and standard deviation of a given example, then calculate the cut-off for identifying outliers as more than 3 standard deviations(99.7%) from the mean.\n",
    "\n",
    "The complete example is listed below."
   ]
  },
  {
   "cell_type": "code",
   "execution_count": 1,
   "metadata": {},
   "outputs": [
    {
     "name": "stdout",
     "output_type": "stream",
     "text": [
      "Identified outliers: 29\n",
      "Non-outlier observations: 9971\n"
     ]
    }
   ],
   "source": [
    "# identify outliers with standard deviation\n",
    "from numpy.random import seed\n",
    "from numpy.random import randn\n",
    "from numpy import mean\n",
    "from numpy import std\n",
    "# seed the random number generator\n",
    "seed(1)\n",
    "# generate univariate observations\n",
    "data = 5 * randn(10000) + 50\n",
    "# calculate summary statistics\n",
    "data_mean, data_std = mean(data), std(data)\n",
    "# identify outliers\n",
    "cut_off = data_std * 3\n",
    "lower, upper = data_mean - cut_off, data_mean + cut_off\n",
    "# identify outliers\n",
    "outliers = [x for x in data if x < lower or x > upper]\n",
    "print('Identified outliers: %d' % len(outliers))\n",
    "# remove outliers\n",
    "outliers_removed = [x for x in data if x >= lower and x <= upper]\n",
    "print('Non-outlier observations: %d' % len(outliers_removed))"
   ]
  },
  {
   "cell_type": "markdown",
   "metadata": {},
   "source": [
    "Running the example will first print the number of identified outliers and then the number od observations that are not outliers, demonstrating how to identify and filter out outliers respectively."
   ]
  },
  {
   "cell_type": "markdown",
   "metadata": {},
   "source": [
    "## Interquartile Range Method\n",
    "\n",
    "A good statistic for summarizing a non-Gaussian distribution sample of data is the Interquartile Range, or IQR for short.\n",
    "\n",
    "The IQR is calculated as the difference between the 75th and the 25th percentiles of the data and defines the box in a box and whisker plot.\n",
    "\n",
    "The IQR can be used to identify outliers by defining limits on the sample values taht are a factor k of the IQR below the 25th precentile or above the 75th percentile. The common value for the fictor k is the value 1.5. A  factor k of 3 or more can be used to identify values that are extreme outliers or \"far outs\" when described in the context of box and whisker plots.\n",
    "\n",
    "The complete example is listed below."
   ]
  },
  {
   "cell_type": "code",
   "execution_count": 5,
   "metadata": {},
   "outputs": [
    {
     "name": "stdout",
     "output_type": "stream",
     "text": [
      "Percentiles: 25th=46.501, 75th=53.232, IQR=6.731\n",
      "Identified outliers: 71\n",
      "Non-outlier observations: 9929\n"
     ]
    }
   ],
   "source": [
    "# identify outliers with interquartile range\n",
    "from numpy.random import seed\n",
    "from numpy.random import randn\n",
    "from numpy import percentile\n",
    "# seed the random number generator\n",
    "seed(3)\n",
    "# generate univariate observations\n",
    "data = 5 * randn(10000) + 50\n",
    "# calculate interquartile range\n",
    "q25, q75 = percentile(data, 25), percentile(data, 75)\n",
    "iqr = q75 - q25\n",
    "print('Percentiles: 25th=%.3f, 75th=%.3f, IQR=%.3f' % (q25, q75, iqr))\n",
    "# calculate the outlier cutoff\n",
    "cut_off = iqr * 1.5\n",
    "lower, upper = q25 - cut_off, q75 + cut_off\n",
    "# identify outliers\n",
    "outliers = [x for x in data if x < lower or x > upper]\n",
    "print('Identified outliers: %d' % len(outliers))\n",
    "# remove outliers\n",
    "outliers_removed = [x for x in data if x >= lower and x <= upper]\n",
    "print('Non-outlier observations: %d' % len(outliers_removed))"
   ]
  },
  {
   "cell_type": "markdown",
   "metadata": {},
   "source": [
    "Running the example first prints the identified 25th and 75th oercentiles and the calculated IQR. The number of outliers identified is printed followed by the number of non-outlier observations. \n",
    "\n",
    "The approach can bbbe used for multivariate data bty calculation the limits on each variable in the dataset in turn, and taking outliers as observations that fall outside of the rectangle or hyper-rectangle."
   ]
  }
 ],
 "metadata": {
  "kernelspec": {
   "display_name": "Python 3",
   "language": "python",
   "name": "python3"
  },
  "language_info": {
   "codemirror_mode": {
    "name": "ipython",
    "version": 3
   },
   "file_extension": ".py",
   "mimetype": "text/x-python",
   "name": "python",
   "nbconvert_exporter": "python",
   "pygments_lexer": "ipython3",
   "version": "3.6.3"
  }
 },
 "nbformat": 4,
 "nbformat_minor": 2
}
