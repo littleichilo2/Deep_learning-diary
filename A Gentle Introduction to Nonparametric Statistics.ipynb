{
 "cells": [
  {
   "cell_type": "markdown",
   "metadata": {},
   "source": [
    "Samples of data where we already know or can easily identify the distribution of are called parametric data. Often, parametric is used to refer to data that was drawn from a Gaussian distribution in common usage. Data in which the distribution is unknown or cannot be easily identified is called nonparametric.\n",
    "\n",
    "In the case where you are working with nonparametric data, specialized nonparametric statistical methods can be used that discard all information about the distribution. As such, these methods are often referred to as distribution-free methods.\n",
    "\n",
    "# Parametric Data\n",
    "\n",
    "Parametric data is a sample of data drawn from a known data distribution.\n",
    "\n",
    "This means that we already know the distribution or we have identified the distribution, and that we know the parameters of the distribution. Often, parametric is shorthand for real-valued data drawn from a Gaussian distribution. This is a useful shorthand, but strictly this is not entirely accurate.\n",
    "\n",
    "If we have parametric data, we can use parametric methods. Continuing with the shorthand of parametric meaning Gaussian. If we have parametric data, we can harness the entire suite of statistical methods developed for data assuming a Gaussian distribution, such as:\n",
    "- Summary statistics.\n",
    "- Correlation between variables.\n",
    "- Significance tests for comparing means.\n",
    "\n",
    "# Nonparametric Data\n",
    "\n",
    "Data that does not fit a known or well-understood distribution is referred to as nonparametric data.\n",
    "\n",
    "Data could be non-parametric for many reasons, such as:\n",
    "- Data is not real-valued, but instead is ordinal, intervals, or some other form.\n",
    "- Data is real-valued but does not fit a well understood shape.\n",
    "- Data is almost parametric but contains outliers, multiple peaks, a shift, or some other feature.\n",
    "\n",
    "There are a suite of methods that we can use for nonparametric data called nonparametric statistical methods. In fact, most parametric methods have an equivalent nonparametric version.\n",
    "\n",
    "In general, the findings from nonparametric methods are less powerful than their parametric counterparts, namely because they must be generalized to work for all types of data. We can still use them for inference and male claims about findings and results, but they will not hold the same weight as similar claims with parametric methods. Information about the distribution is discarded.\n",
    "\n",
    "In the case or ordinal or interval data, nonparametric statistics are the only type of statistics that can be used. For real-valued data, nonparametric statistical methods are required in applied machine learning when you are trying to make claims on data that does not fit the familiar Gaussian distribution. \n",
    "\n",
    "# Ranking Data\n",
    "\n",
    "Before a nonparametric statistical method can be applied, the data must be converted into a rank format.\n",
    "\n",
    "As such, statistical methods that expect data in rank format are sometimes called rank statistics, such as ranl correlation and ranl statistical hypothesis tests.\n",
    "\n",
    "Ranking data is exactly as its name suggests. The procedure is as follows:\n",
    "- Sort all data is exactly in the sample in ascending order.\n",
    "- Assign as integer rank from 1 to N for each unique value in the data sample.\n",
    "\n",
    "For example, imagine we have the following data sample, presented as a column:"
   ]
  },
  {
   "cell_type": "code",
   "execution_count": null,
   "metadata": {
    "collapsed": true
   },
   "outputs": [],
   "source": [
    "0.020\n",
    "0.184\n",
    "0.431\n",
    "0.550\n",
    "0.620"
   ]
  },
  {
   "cell_type": "markdown",
   "metadata": {},
   "source": [
    "We can sort it as follows:"
   ]
  },
  {
   "cell_type": "code",
   "execution_count": null,
   "metadata": {
    "collapsed": true
   },
   "outputs": [],
   "source": [
    "0.020\n",
    "0.184\n",
    "0.431\n",
    "0.550\n",
    "0.620"
   ]
  },
  {
   "cell_type": "markdown",
   "metadata": {},
   "source": [
    "Then assign a rank to each value, starting at 1:"
   ]
  },
  {
   "cell_type": "code",
   "execution_count": null,
   "metadata": {
    "collapsed": true
   },
   "outputs": [],
   "source": [
    "1 = 0.021055\n",
    "2 = 0.404622\n",
    "3 = 0.488733\n",
    "4 = 0.618510\n",
    "5 = 0.832803"
   ]
  },
  {
   "cell_type": "markdown",
   "metadata": {},
   "source": [
    "We can then apply this procedure to another data sample and start using nonparametric statistical methods.\n",
    "\n",
    "There are variations on this procedure for special circumstances such as handling ties, using a reverse ranking, and using a fractional rank score, but the general properties hold.\n",
    "\n",
    "The SciPy library provides the rankdata() fuction to rank numerical data, which supports a number of variations on ranking.\n",
    "\n",
    "The example below demonstrates how to rank a numerical dataset."
   ]
  },
  {
   "cell_type": "code",
   "execution_count": 1,
   "metadata": {},
   "outputs": [
    {
     "name": "stdout",
     "output_type": "stream",
     "text": [
      "[  4.17022005e-01   7.20324493e-01   1.14374817e-04   3.02332573e-01\n",
      "   1.46755891e-01   9.23385948e-02   1.86260211e-01   3.45560727e-01\n",
      "   3.96767474e-01   5.38816734e-01]\n",
      "[ 408.  721.    1.  300.  151.   93.  186.  342.  385.  535.]\n"
     ]
    }
   ],
   "source": [
    "from numpy.random import rand\n",
    "from numpy.random import seed\n",
    "from scipy.stats import rankdata\n",
    "# seed random number generator\n",
    "seed(1)\n",
    "# generate dataset\n",
    "data = rand(1000)\n",
    "# review first 10 samples\n",
    "print(data[:10])\n",
    "# rank data\n",
    "ranked = rankdata(data)\n",
    "# review first 10 ranked samples\n",
    "print(ranked[:10])"
   ]
  },
  {
   "cell_type": "markdown",
   "metadata": {},
   "source": [
    "Running the example first generates a sample of 1000 random numbers from a uniform distribution, then ranks the data sample and prints the result.\n",
    "\n",
    "# Working with Ranked Data\n",
    "\n",
    "There are statistical tools that you can use to check if your sample data fits a given distribution. \n",
    "\n",
    "For example, if we take nonparametric data as data that does not look Gaussian, then you can use statistical methods that quantify how Gaussian a sample of data is and use nonparametric methods if the data fails those tests.\n",
    "\n",
    "Three examples of statistical methods for normality testing, as it is called, are:\n",
    "- Shapiro-Wilk test.\n",
    "- Kolmogorov-Smirnov test.\n",
    "- Anderson-Darling test.\n",
    "\n",
    "Once you have decided to use nonparametric statistics, you must then rank your data.\n",
    "\n",
    "In fact, most of the tools that you use for inference will perform the ranking of the sample data automatically. Nervertheless, it is important to understand how your sample data is being transformed prior to performing the tests.\n",
    "\n",
    "In applied machine learning, There are two main types of questions that you may have about your data that you can addess with nonparametric statistical methods.\n",
    "\n",
    "## Relationship Between Variables\n",
    "\n",
    "Methods for queantifying the dependency between variables are called correlation methods. \n",
    "\n",
    "Two nonparametric statistical correlation methods that you can use are:\n",
    "- Spearman's rank correlation coefficient.\n",
    "- Kendall rank correlation coefficient.\n",
    "\n",
    "## Compare Sample Means\n",
    "\n",
    "Methods for quantifying whether the mean between two populations is significantly different are called statistical significance tests.\n",
    "\n",
    "Three nonparametric statistical signifivance tests that you can use are:\n",
    "- Friedman test.\n",
    "- Mann-Whitney U test.\n",
    "- Wilcoxon signed-rank test.\n",
    "\n"
   ]
  }
 ],
 "metadata": {
  "kernelspec": {
   "display_name": "Python 3",
   "language": "python",
   "name": "python3"
  },
  "language_info": {
   "codemirror_mode": {
    "name": "ipython",
    "version": 3
   },
   "file_extension": ".py",
   "mimetype": "text/x-python",
   "name": "python",
   "nbconvert_exporter": "python",
   "pygments_lexer": "ipython3",
   "version": "3.6.3"
  }
 },
 "nbformat": 4,
 "nbformat_minor": 2
}
