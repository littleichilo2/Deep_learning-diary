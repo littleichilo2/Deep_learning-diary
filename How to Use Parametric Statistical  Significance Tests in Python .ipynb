{
 "cells": [
  {
   "cell_type": "markdown",
   "metadata": {},
   "source": [
    "Parametric statistical methods often mean those methods that assume the data sameples have a Gaussian distribution.\n",
    "\n",
    "In applied machine learning, we need to compare data samples, specifically the mean of the samples. Perhaps to see if one technique performs better than another on one or more datasets. To quantify this question and interpret the results, we can use parametric hypothesis testing methods such as the Student's t-test and ANOVA.\n",
    "\n",
    "In this tutorial, you will discover parametric statistical significance tests that quantify the difference between the means of two or more samples of data. \n",
    "\n",
    "After completing this tutorial, you will know:\n",
    "\n",
    "- The Student's t-test for quantifying the difference between themean of two independent data samples.\n",
    "- The paired Student's t-test for quantifying the difference between the mean of two dependent data samples.\n",
    "- The ANOVA and repeated measures ANOVA for checking the similarity or difference between the means of 2 or more data samples.\n",
    "\n",
    "# Tutorial Overview \n",
    "\n",
    "1. Parametric Statistical Significance Tests \n",
    "1. Test Data\n",
    "1. Student's t-Test\n",
    "1. Paired Student t-Test\n",
    "1. Analysis of Variance Test\n",
    "1. Repeated Measures ANOVA Test\n",
    "\n",
    "# Parametric Statistical Significance Tests \n",
    "\n",
    "Parametric statistical tests assume that a data sample was drawn from a specific population distribution.\n",
    "\n",
    "They often refer to statistical tests that assume the Gaussian distribution. Because it is so common for data to fit this distribution, parametric statistical methods are more commonly used.\n",
    "\n",
    "A typical question we may have about two or more samples of data is whether thay have the same distribution. Parametric statistical significance tests are those statustucal methods that assume data comes from the same Gaussian distribution, that is a data distribution with the same mean and standard deviation: the parameters of the distribution.\n",
    "\n",
    "In general, each test calculates a test calculates a test statistic that must be interpreted with some background in statistics and a deeper knowledge of the statistical test itself. Tests also return a p-value that can be used to interpret the result of the test. The p-value can be thought of as the probability of observing the two data samples given the base assumption (null hypothesis) that the two samples were drawn from a population with the same distribution.\n",
    "\n",
    "The p-value can be interpreted in the context of a chosen significance level called alpha is 5%, or 0.05. If the p-value is below the significance level, then the test says there is enough evidence to reject the null hypothesis and that the samples were likely drawn from populations with differing distributions.\n",
    "\n",
    "- **p<=alpha**:reject H0, different distribution.\n",
    "- **p>alpha**:reject H0, same distribution.\n",
    "\n",
    "# Test Data\n",
    "\n",
    "Before we look at specific parametric significance tests, lets first define a test dataset that we can use to demonstrate each test.\n",
    "\n",
    "We will generate two samples drawn from different distributions. Each sample will be frawn from a Gaussian distribution.\n",
    "\n",
    "We will use randn() NumPy function to generate a sample of 100 Gaussian random numbers in each sample with a mean of 0 and a standard deviation of 1. Observations in the first sample are scaled to have a mean of 50 and a standard deviation of 5. Observations in the second sample are scaled to have a mean of 51 and a standard deviation of 5.\n",
    "\n",
    "We expect the statistical tests to discover that the samples were drawn from differing distributions, although the small sample size of 100 observations per sample will add some noise to this decision.\n",
    "\n",
    "The complete code example is listed below."
   ]
  },
  {
   "cell_type": "code",
   "execution_count": 1,
   "metadata": {},
   "outputs": [
    {
     "name": "stdout",
     "output_type": "stream",
     "text": [
      "data1: mean=50.303 stdv=4.426\n",
      "data2: mean=51.764 stdv=4.660\n"
     ]
    }
   ],
   "source": [
    "# generate gaussian data samples\n",
    "from numpy.random import seed\n",
    "from numpy.random import randn\n",
    "from numpy import mean\n",
    "from numpy import std\n",
    "# seed the random number generator\n",
    "seed(1)\n",
    "# generate two sets of univariate observations\n",
    "data1 = 5 * randn(100) + 50\n",
    "data2 = 5 * randn(100) + 51\n",
    "# summarize\n",
    "print('data1: mean=%.3f stdv=%.3f' % (mean(data1), std(data1)))\n",
    "print('data2: mean=%.3f stdv=%.3f' % (mean(data2), std(data2)))"
   ]
  },
  {
   "cell_type": "markdown",
   "metadata": {},
   "source": [
    "Running the example generates the data samples, then calculates and prints the mean and standard deviation for each sample, confirming their different distribution.\n",
    "\n",
    "# Student's t-Test\n",
    "\n",
    "The Student's t-Test is a statistical hypothesis test that two independent data samples know to have a Gaussian distribution, have the same Gaussian distribution, named for William Gosset, who used the pseudonym \"*Student*\".\n",
    "\n",
    "> One of the most commonly used t tests is the independent samples t test. You use this test when you want to compare the means of two independent samples on a given variable.\n",
    "\n",
    "The assumption or null pypothesis of the test is that the means of two populations are equal. A rejection of this hypothesis indicates that there is sufficient evidence that the means of the populations are different, and in turn that the distributions are not equal.\n",
    "\n",
    "- Accept H0: Sample distributions are equal. \n",
    "- Reject H0: Sample distributions are not equal.\n",
    "\n",
    "The Student's t-test is available in Python via the ttest_ind() SciPy function. The function takes two data samples as arguments and returns the calculated statistic and p-value.\n",
    "\n",
    "We can demonstrate the Student's t-test on the test problem with the expectation that the test discovers the difference in distribution between the two independent samples. The complete code example is listed below."
   ]
  },
  {
   "cell_type": "code",
   "execution_count": 2,
   "metadata": {},
   "outputs": [
    {
     "name": "stdout",
     "output_type": "stream",
     "text": [
      "Statistics=-2.262, p=0.025\n",
      "Different distributions (reject H0)\n"
     ]
    }
   ],
   "source": [
    "# Student's t-test\n",
    "from numpy.random import seed\n",
    "from numpy.random import randn\n",
    "from scipy.stats import ttest_ind\n",
    "# seed the random number generator\n",
    "seed(1)\n",
    "# generate two independent samples\n",
    "data1 = 5 * randn(100) + 50\n",
    "data2 = 5 * randn(100) + 51\n",
    "# compare samples\n",
    "stat, p = ttest_ind(data1, data2)\n",
    "print('Statistics=%.3f, p=%.3f' % (stat, p))\n",
    "# interpret\n",
    "alpha = 0.05\n",
    "if p > alpha:\n",
    "\tprint('Same distributions (accept H0)')\n",
    "else:\n",
    "\tprint('Different distributions (reject H0)')"
   ]
  },
  {
   "cell_type": "markdown",
   "metadata": {},
   "source": [
    "Running the example calculates the Student's t-test on the generated data samples and prints the statistic and p-value.\n",
    "\n",
    "The interpretation of the statistic find that the sample means are different, with a significance of at least 5%.\n",
    "\n",
    "# Paired Student's t-Test\n",
    "\n",
    "We may wish to compare the means between two data samples that are related on some way.\n",
    "\n",
    "For example, the data samples may represent two independent measures or evalutions of the same object. These data samples are repeated or dependent and are referred to as paired samples or repeated measures.\n",
    "\n",
    "Because the samples are not independent, we cannot use the Student's t-test. Instead, we must use a modified version of the test that corrects for the fact that the data samplkes are dependent, called the paired Student's t-test.\n",
    "\n",
    "> A dependent samples t test is also used to compare two means on a single dependent variable. Unlike the independent samples test, however, a dependent samples t test is used to compare the means of a single sample or of two matched ot paired samples.\n",
    "\n",
    "The test is simplified because it no longer assumes that there is variation between the observations, the observations were made in pairs, before and after a treatment that there is enough evidence that the sample means are different.\n",
    "\n",
    "- **Accept H0**: Paired sample distributions are equal.\n",
    "- **Reject H0**: Paired sample distributions are not equal.\n",
    "\n",
    "The paired Student's t-test can be implemented in Python using the ttest_rel() SciPy function. As with the unpaired version, the dunction takes two data samples as arguments and returns the calculated statistic and p-value.\n",
    "\n",
    "We can demonstrate the paired Student's t-test on the test dataset. Although the samples are independent, not paired, we can pretend for the sake of the demonstration that the observations are paired and calculate the statistic. \n",
    "\n",
    "The complete example is listed below."
   ]
  },
  {
   "cell_type": "code",
   "execution_count": 3,
   "metadata": {},
   "outputs": [
    {
     "name": "stdout",
     "output_type": "stream",
     "text": [
      "Statistics=-2.372, p=0.020\n",
      "Different distributions (reject H0)\n"
     ]
    }
   ],
   "source": [
    "# Paired Student's t-test\n",
    "from numpy.random import seed\n",
    "from numpy.random import randn\n",
    "from scipy.stats import ttest_rel\n",
    "# seed the random number generator\n",
    "seed(1)\n",
    "# generate two independent samples\n",
    "data1 = 5 * randn(100) + 50\n",
    "data2 = 5 * randn(100) + 51\n",
    "# compare samples\n",
    "stat, p = ttest_rel(data1, data2)\n",
    "print('Statistics=%.3f, p=%.3f' % (stat, p))\n",
    "# interpret\n",
    "alpha = 0.05\n",
    "if p > alpha:\n",
    "\tprint('Same distributions (accept H0)')\n",
    "else:\n",
    "\tprint('Different distributions (reject H0)')"
   ]
  },
  {
   "cell_type": "markdown",
   "metadata": {},
   "source": [
    "Running the example caluculates and prints the test statisic and p-value. THe interpretation of the result suggests that the samples that the samples hace different means and therefore different distributions.\n",
    "\n",
    "# Analysis of Varicance Test \n",
    "\n",
    "There are sometimes situations where we may have multiple independent data samples.\n",
    "\n",
    "We can perform the Student's t-test pairwise on each combination of the data samples to get an idea of which samples have different means. This can be onerous if we are only interested in whether all samples have the same distribution or not.\n",
    "\n",
    "To answer this question, we can user the analysis of variance test, or ANOVA for short. ANONA is a statistical test that assumes that the mean across 2 or more groups are equal. If the evidence suggests that this is not the case, the null hypothesis is rejected and at least one data sample has a different distribution.\n",
    "\n",
    "- **Accept H0**: All sample distributions are equal. \n",
    "- **Reject H0**: One or more sample distributions are not equal.\n",
    "\n",
    "Importantlym the test can only comment on whether all samples are the same or not; it cannot quantify which samples differ or by how much.\n",
    "\n",
    "> The purpose of a one-way analysis of variance (one-way ANOVA) is to compare the means of two or more groups (the independent variable) on one dependent variable to see if the group means are significantly different from each other.\n",
    "\n",
    "The test requires that the data samples are a Gaussian distribution, that the samples are independent, and that all data samples have the same standard deviation.\n",
    "\n",
    "The ANOVA test can be performed in Python using the f_oneway() SciPy function. The function takes two or more data samples as arguments and returns the test statistic and f-value.\n",
    "\n",
    "We can modify out test problem to have two samples with the same mean and a third sample with a slightly different mean. We would then expect the test to discover that at least one sample has a different distribution.\n",
    "\n",
    "The complete example is listed below."
   ]
  },
  {
   "cell_type": "code",
   "execution_count": 4,
   "metadata": {},
   "outputs": [
    {
     "name": "stdout",
     "output_type": "stream",
     "text": [
      "Statistics=3.655, p=0.027\n",
      "Different distributions (reject H0)\n"
     ]
    }
   ],
   "source": [
    "# Analysis of Variance test\n",
    "from numpy.random import seed\n",
    "from numpy.random import randn\n",
    "from scipy.stats import f_oneway\n",
    "# seed the random number generator\n",
    "seed(1)\n",
    "# generate three independent samples\n",
    "data1 = 5 * randn(100) + 50\n",
    "data2 = 5 * randn(100) + 50\n",
    "data3 = 5 * randn(100) + 52\n",
    "# compare samples\n",
    "stat, p = f_oneway(data1, data2, data3)\n",
    "print('Statistics=%.3f, p=%.3f' % (stat, p))\n",
    "# interpret\n",
    "alpha = 0.05\n",
    "if p > alpha:\n",
    "\tprint('Same distributions (accept H0)')\n",
    "else:\n",
    "\tprint('Different distributions (reject H0)')"
   ]
  },
  {
   "cell_type": "markdown",
   "metadata": {},
   "source": [
    "Running the example calculates and prints the test statistic and the p-value. \n",
    "\n",
    "The interpretation of the p-value correctly rejects the null hypothesis indicating indicating that one or more sample means differ.\n",
    "\n",
    "# Repected Measures ANOVA Test\n",
    "\n",
    "We may have multiple data samples that are related or dependent in some way. \n",
    "\n",
    "For example, we may repeat the same measurements on a subject at different time periods. In this case, the samples will no longer be independent; instead we will have multiple paired samples.\n",
    "\n",
    "We could repeat the pairwise Student's t-test multiple times. Alternately, we can use a single test to check if all of the samples have the same mean. A variation of the ANOVA test can be used, modified to test across more than 2 samples. This test is called the repeated measures ANOVA test.\n",
    "\n",
    "The default assumption or null hypothesis is that all paired samples have the same mean, and therefore the same distribution. If the samples suggest that this is not the case, then the null hypothesis is rejected and one or more of the paired samples have a different mean. \n",
    "\n",
    "- **Accept H0**:\n",
    "- **Reject H0**: One or more paired sample distributions are not equal.\n",
    "\n",
    "> Repeated-measures ANOVA has a number of advantages over paired t tests, however. First, with repeated-measures ANOVA, we can examine differences on a dependent variable that has been measured at more than two time points, whereas with an independent t test we can only compare scores on a dependent variable from two times points.\n",
    "\n",
    "Unforunately, at the time of writing, there is no version of the repeated measures ANOVA test available in SciPy. Hopefully this test will be added soon.\n",
    "\n",
    "I menstion this test for comleteness in case you require it on your project and are able to seek and find an alternate implementation.\n",
    "\n",
    "# Extensions\n",
    "\n",
    "This section lists some ideas for extending the tutorial that you may wish to explore.\n",
    "\n",
    "- Update all examples to operate on data samples that have the same distribution.\n",
    "- Create a flowchart for choosing each of the three statistical signidicance tests given the requirements and behavior of each test.\n",
    "- Consider 3 cases of comparing data samples in a machine learning project, assume a non-Gaussian distribution for the samples, and suggest the type of the test that could be used in each case."
   ]
  }
 ],
 "metadata": {
  "kernelspec": {
   "display_name": "Python 3",
   "language": "python",
   "name": "python3"
  },
  "language_info": {
   "codemirror_mode": {
    "name": "ipython",
    "version": 3
   },
   "file_extension": ".py",
   "mimetype": "text/x-python",
   "name": "python",
   "nbconvert_exporter": "python",
   "pygments_lexer": "ipython3",
   "version": "3.6.3"
  }
 },
 "nbformat": 4,
 "nbformat_minor": 2
}
