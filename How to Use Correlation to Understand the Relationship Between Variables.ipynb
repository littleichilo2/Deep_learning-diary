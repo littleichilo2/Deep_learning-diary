{
 "cells": [
  {
   "cell_type": "markdown",
   "metadata": {},
   "source": [
    "## What is Correlation?\n",
    "\n",
    "One or mores variable could cause or depend on the values of auother variable.\n",
    "\n",
    "The performance of some algorithms can deteriorate if two or more variables are tightly related, called multicollinearity. An example is linear regression, where one of the offending correlated variables should be removed in order improve the wkill of the model.\n",
    "\n",
    "We may also br interested in the correlation between input variables with the output variable in order provide insight into which variables may or may not be relevant as input for developing a model.\n",
    "\n",
    "The structure of the relationship may be known, e.g. it may be linear, or we may have no idea whether a relationship exists between two variables or what structure it may take. Depending what is known aobut the relationship and the distribution of the variables, different correlation scores can be calculated.\n",
    "\n",
    "# Test Dataset\n",
    "\n",
    "We will generate 1000 samples of two two vauev with a strong positive corralation. The first variable will be random numbers drawn from a Gaussian distribution with a mean of 100 and a standard deviation of 20. The second variable will be values from the first variable with Gaussuian noise added with a mean of a 50 and a standard deviation of 10.\n",
    "\n",
    "We will use the randn() function to generate random Gaussian values with a mean of 0 and a standard deviation of 1, then multiply the results by out won standard deviation and add the meanto shift the values into the prederred range.\n",
    "\n",
    "The pseudorandom number generator is seeded to ensure that we get the same sample of numbers each time the code is run.\n"
   ]
  },
  {
   "cell_type": "code",
   "execution_count": 1,
   "metadata": {},
   "outputs": [
    {
     "name": "stdout",
     "output_type": "stream",
     "text": [
      "data1: mean=100.776 stdv=19.620\n",
      "data2: mean=151.050 stdv=22.358\n"
     ]
    },
    {
     "data": {
      "image/png": "[encoded data removed]",
      "text/plain": [
       "<matplotlib.figure.Figure at 0x1fd04c57550>"
      ]
     },
     "metadata": {},
     "output_type": "display_data"
    }
   ],
   "source": [
    "# generate related variables\n",
    "from numpy import mean\n",
    "from numpy import std\n",
    "from numpy.random import randn\n",
    "from numpy.random import seed\n",
    "from matplotlib import pyplot\n",
    "# seed random number generator\n",
    "seed(1)\n",
    "# prepare data\n",
    "data1 = 20 * randn(1000) + 100\n",
    "data2 = data1 + (10 * randn(1000) + 50)\n",
    "# summarize\n",
    "print('data1: mean=%.3f stdv=%.3f' % (mean(data1), std(data1)))\n",
    "print('data2: mean=%.3f stdv=%.3f' % (mean(data2), std(data2)))\n",
    "# plot\n",
    "pyplot.scatter(data1, data2)\n",
    "pyplot.show()"
   ]
  },
  {
   "cell_type": "markdown",
   "metadata": {},
   "source": [
    "Running the example first prints the mean and standard deviation for each variable.\n",
    "\n",
    "A scatter plot of the two variables is created. Because we contrived the dataset, we know there is a relationship betkeeen the two variables. This clear when we review the generated scatter plot where we can see an increasing trend.\n",
    "\n",
    "Before we look at calculation some correlation scores, we must first look at an important statistical building block, called covariance.\n",
    "\n",
    "## Covariance\n",
    "\n",
    "Variables can be related by a linear relationship. This is a relationship that is consistently additive across the two data samples.\n",
    "\n",
    "This relationship can be summarized between two variables called the covariance. It is calculated as the average of the produvt between the values from each sample, where the values haven been centered (had their mean subtracted).\n",
    "\n",
    "The calculation of the sample covariance is as follows:\n",
    "`cov(X,Y)=(sum(x-mean(X))*(y-mean(Y)))*1/(n-1)`\n",
    "\n",
    "The use of the mean in calculation suggests the need for each data sample to have a Gaussian or Gaussian-like distribution.\n",
    "\n",
    "The sign of the covariance can be interpreted as whether the two variables change in the same direction (positive) or change in different directions (negative). The magnitude of the covariance is not easily interpreted. A covariance value of zero indicates that both variables are completely independent.\n",
    "\n",
    "The *cov()* NumPy function can be used to calculate a covariance matrix between two or more variables.\n",
    "`covariance = cov(data1,data2)`\n",
    "\n",
    "The main diagonal of the matrix contains the covariance between each variable and itself. The other values in the matric represent the covariance between the two variables; in this case, the reamining two values are the same given that we are calculating the covariance for only two variables.\n",
    "\n",
    "We can calculate the covariance matrix for the two variables in our test problem.\n",
    "\n",
    "The complete example is listed below."
   ]
  },
  {
   "cell_type": "code",
   "execution_count": 2,
   "metadata": {},
   "outputs": [
    {
     "name": "stdout",
     "output_type": "stream",
     "text": [
      "[[ 385.33297729  389.7545618 ]\n",
      " [ 389.7545618   500.38006058]]\n"
     ]
    }
   ],
   "source": [
    "# calculate the covariance between two variables\n",
    "from numpy.random import randn\n",
    "from numpy.random import seed\n",
    "from numpy import cov\n",
    "# seed random number generator\n",
    "seed(1)\n",
    "# prepare data\n",
    "data1 = 20 * randn(1000) + 100\n",
    "data2 = data1 + (10 * randn(1000) + 50)\n",
    "# calculate covariance matrix\n",
    "covariance = cov(data1, data2)\n",
    "print(covariance)"
   ]
  },
  {
   "cell_type": "markdown",
   "metadata": {},
   "source": [
    "The covariance and covariance matrix are used widely within statistics and multivariate analysis to characterize the relationships between two or more variables.\n",
    "\n",
    "Because the dataset was contrived with each variable drawn from a Gaussian distribution and the variables linearly correlated, covarianve is a reasonable method for describing method for describing the relationship.\n",
    "\n",
    "The covariance between the two variable is 389.75. We can see that it is positive, suggesting the variables change in the same direction as we expect.\n",
    "\n",
    "A problem with covarianve as a statistical tool alone is that it is challenging to interpret. This leads us to the Pearson's correlation coefficient next.\n",
    "\n",
    "## Pearson's Correlation\n",
    "\n",
    "The Pearson correlation coefficient (named for Karl Pearson) can be used to summarize the strength of the linear relationship between two data samples.\n",
    "\n",
    "The Pearson correlation coefficient is calculated as the covariance of the two variables divided by the product of the standard deviation of each data sample. It is the normalization of the covarianve between the two variables to give an interpretable score.\n",
    "`Pearson's correlation coefficient = covariance(X,Y)/(stdv(X) * stdv(Y))`\n",
    "\n",
    "The use of mean and standard deviation in the calculation suggests the need for the two data samples to have a Gaussian or Gaussian-like distribution.\n",
    "\n",
    "The result of the calculation, the correlation coefficient can be interpreted to understand the relationship.\n",
    "\n",
    "The coefficient returns a value between -1 and 1 that represents the limits of correlation from a full negative correlation to a full positive correlation. A value of 0 means no correlation. The value must be interpreted, where often a value below -0.5 or above 0.5 indicates a notable correlation, and values below those values suggests a less notable correlation.\n",
    "\n",
    "The *pearsonr()* Scipy function can be used to calculate the Pearson's correlation coefficient between two data samples with the same length.\n",
    "\n",
    "We can calculate the correlation between the two variables in our variables in our test problem.\n",
    "\n",
    "The complete example is listed below."
   ]
  },
  {
   "cell_type": "code",
   "execution_count": 3,
   "metadata": {},
   "outputs": [
    {
     "name": "stdout",
     "output_type": "stream",
     "text": [
      "Pearsons correlation: 0.888\n"
     ]
    }
   ],
   "source": [
    "# calculate the Pearson's correlation between two variables\n",
    "from numpy.random import randn\n",
    "from numpy.random import seed\n",
    "from scipy.stats import pearsonr\n",
    "# seed random number generator\n",
    "seed(1)\n",
    "# prepare data\n",
    "data1 = 20 * randn(1000) + 100\n",
    "data2 = data1 + (10 * randn(1000) + 50)\n",
    "# calculate Pearson's correlation\n",
    "corr, _ = pearsonr(data1, data2)\n",
    "print('Pearsons correlation: %.3f' % corr)"
   ]
  },
  {
   "cell_type": "markdown",
   "metadata": {},
   "source": [
    "Running the example calculates and prints the Pearson's correlation coefficient.\n",
    "\n",
    "We can see that the two variables are positively correlated and that the correlation is 0.8. This suggests a high level of correlationm e.g. a value above 0.5 and close to 1.0.\n",
    "\n",
    "The Pearson's correlation coefficient can be used to evaluate the relationship between more than two variables.\n",
    "\n",
    "This can be done by calulating a matrix of the relationships between each pair of variables in the dataset. The result is symmetric matrix called a correlation matrix woth a value of 1.0 along the main diahonal as each column always perfectly correlates with itself.\n",
    "\n",
    "## Spearman's Correlation\n",
    "\n",
    "Two variables may be related by nonlinear relationship, such that the relationship is stronger or weaker across the distribution of the variables.\n",
    "\n",
    "Further, the two variables being considered may have a non-Gaussian distribution.\n",
    "\n",
    "In this case, the Spearman's correlation coefficient (named for Charles Spearman) can be used to summarize the strength between the two data samples. \n",
    "\n",
    "This test of relationship can also be used if there is a linear relationship between the variables, but will have sightly less power(e.g. may result in lower coefficient scores).\n",
    "\n",
    "As with the Pearson correlation coefficient, the scores are between -1 and 1 for perfectly negatively correlated variables and perfectly positive;y correlated respectively.\n",
    "\n",
    "Instead of calculating the coefficient using covariance and standard deviations on the samples themseleves, these statistics are calculated form the relative rank of values on each sample. This is a common approach used in ini-parametric statistics,e.g. statistical methods where we do not assume a distribution of the data such as Gaussian.\n",
    "`Spearman's correlation coefficient = covarianve(rank(X),rank(Y))/(stdv(rank(X)) * stdv(rank(Y)))`\n",
    "\n",
    "A linear relationship between the variables is not assumed, although a monotonic relationship is assumed. This is a mathematical name for an increasing or decreasing relationship between the two variables.\n",
    "\n",
    "If you are unsure of the distribution and possible relationships between two variables, Spearman correlation coefficient is a good tool to use.\n",
    "\n",
    "The *spearmanr()* SciPy function can be used to calculate the Spearman's correlation coeffivient between two dada samples with the same leangth.\n",
    "\n",
    "We can calculate the correlation between the two variables in our test problem.\n",
    "\n",
    "The complete example is listed below."
   ]
  },
  {
   "cell_type": "code",
   "execution_count": 4,
   "metadata": {},
   "outputs": [
    {
     "name": "stdout",
     "output_type": "stream",
     "text": [
      "Spearmans correlation: 0.872\n"
     ]
    }
   ],
   "source": [
    "# calculate the spearmans's correlation between two variables\n",
    "from numpy.random import randn\n",
    "from numpy.random import seed\n",
    "from scipy.stats import spearmanr\n",
    "# seed random number generator\n",
    "seed(1)\n",
    "# prepare data\n",
    "data1 = 20 * randn(1000) + 100\n",
    "data2 = data1 + (10 * randn(1000) + 50)\n",
    "# calculate spearman's correlation\n",
    "corr, _ = spearmanr(data1, data2)\n",
    "print('Spearmans correlation: %.3f' % corr)"
   ]
  },
  {
   "cell_type": "markdown",
   "metadata": {},
   "source": [
    "Running the example calculates and prints the spearman's correlation coefficient. \n",
    "\n",
    "We know that the data is Gaussian and that the relationship between the variables is linear. Nevertheless, the nonparametric rank based approach shows a astrong correlation between the variables of 0.8.\n",
    "\n",
    "As with the Pearson's correlation coefficient, the coefficient can be calculated pair-wise for each variable in a dataset to give a correlation matrix for revied."
   ]
  }
 ],
 "metadata": {
  "kernelspec": {
   "display_name": "Python 3",
   "language": "python",
   "name": "python3"
  },
  "language_info": {
   "codemirror_mode": {
    "name": "ipython",
    "version": 3
   },
   "file_extension": ".py",
   "mimetype": "text/x-python",
   "name": "python",
   "nbconvert_exporter": "python",
   "pygments_lexer": "ipython3",
   "version": "3.6.3"
  }
 },
 "nbformat": 4,
 "nbformat_minor": 2
}
