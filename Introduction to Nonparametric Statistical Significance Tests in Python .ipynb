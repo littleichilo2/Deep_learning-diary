{
 "cells": [
  {
   "cell_type": "markdown",
   "metadata": {},
   "source": [
    "In applied machine learning, we often need to determine whether two data samples have the same or different distributions.\n",
    "\n",
    "We can answer this question using statistical significance tests that can quantify the likelihood that the samples have the same distribution.\n",
    "\n",
    "If the data does not have the familiar Gaussian distribution, we must resort to nonparametric version of the significance tests. These tests operate in a similar manner, but are distribution free, requiring that real valued daata be first transformed in to rank data before the test can be performed.\n",
    "\n",
    "In this tutorial, you will discover nonparametric statistical tests that you can user to determine if data samples were drawn from populations with the same or different distributions.\n",
    "\n",
    "After completing this tutorial, you will know:\n",
    "\n",
    "- The Mann-Whitney U test for comparing independent data samples: nonparametric version of the Student t-test.\n",
    "- The Wilconxon signed-rank test for comparing paired data samples: the nonparametric version of the paired Student t-test.\n",
    "- The Kruskal-Wallis H and Friedman tests for comparing more than two data samples: The nonparametric version of the ANOVA and repeated measures ANOVA tests.\n",
    "\n",
    "This tutorial is divided into 6 parts; they are:\n",
    "\n",
    "1. Nonparametric Statistical Significance Tests\n",
    "1. Test Data\n",
    "1. Mann-Whitney U Test\n",
    "1. Wilcoxon Signed-Rank Test\n",
    "1. Kruskal-Willis H Test\n",
    "1. Friedman Test\n",
    "\n",
    "# Nonparametric Statistical Significance Tests\n",
    "\n",
    "Nonparametric statistics are those methods that do not assume a specific distribution to the data.\n",
    "\n",
    "Often, they refer to statistical methods that do not assume a Gaussian distrubution.They were developed for use with ordinal or interval data, but in practice can also be used with a ranking of real-valued observations in a data sample rather than on the observation values themselves.\n",
    "\n",
    "A common question about two or more datasets is whether they are different. Specifically, whether the difference between their central tendency (e.g. mean or median) is statistically significant.\n",
    "\n",
    "This question can be answered for data samples that do not have a Gaussian distribution by using nonparametric statistical significance tests. The null hypothesis of these tests id often the assumption that both samples were drawn from a population with the same distribution, and therefore the same population parameters, such as mean or median.\n",
    "\n",
    "If after calculating the significance test on two or more samples the null hypothesis is rejected, it indicates that there is evidence to suggest that samples were drawn from differemt populations, and in turn the difference between sample estimates of population parameters, such as means or medians may be significant.\n",
    "\n",
    "These tests are often used on samples of model skill scores in order to confirm that the difference in skill between machine learning models is significant.\n",
    "\n",
    "In general, each test calculates a test statistic, that must be interpreted with some background in statistics and a deeper knowledge of the statistical test itself. Tests also return a p-value that can be useed to interpret the result of the test. The p-value can be thought of as the probaility of observing the two data samples given the base assumption (null hypothesis) that the two samples were drawn from a population with the same distribution.\n",
    "\n",
    "The p-value can be interpreted in the context of a chosen significance level called alpha. A common value for alpha is 5% or 0.05. If the p-value is below the significance level, then the test says there is enough evidence to reject the null hypothesis and that the samples were likely frawn from populations with differing distributions.\n",
    "\n",
    "- **p<=alpha**:reject H0, different distribution.\n",
    "- **p >alpha**:accept H0, same distribution.\n",
    "\n",
    "# Test Dataset \n",
    "\n",
    "Before we look at specific nonparametric significance tests, let's first define a test dataset that we can use to demonstrate each test.\n",
    "\n",
    "We will generate two samples drawn from different distributions. We will draw the samples from Gaussian distributions for simplicity, although, as noted, the tests we review in this tutorial are for data samples where we do not know or assume any specific distribution.\n",
    "\n",
    "We will use the randn() NumPy function to generate a sample of 100 Gaussian random numbers in each sample with a mean of 0 and a standard deviation of 1. Observations in the first sample are scaled to have a mean of 50 and a standard deviation of 5.\n",
    "\n",
    "We expect the statistical tests to discover that the samples were drawn were drawn from differing distributions, although the small sample size of 100 observations per sample will add some noise to this decision.\n",
    "\n",
    "The complete code example is listed below."
   ]
  },
  {
   "cell_type": "code",
   "execution_count": 1,
   "metadata": {},
   "outputs": [
    {
     "name": "stdout",
     "output_type": "stream",
     "text": [
      "data1: mean=50.303 stdv=4.426\n",
      "data2: mean=51.764 stdv=4.660\n"
     ]
    }
   ],
   "source": [
    "# generate gaussian data samples\n",
    "from numpy.random import seed\n",
    "from numpy.random import randn\n",
    "from numpy import mean\n",
    "from numpy import std\n",
    "# seed the random number generator\n",
    "seed(1)\n",
    "# generate two sets of univariate observations\n",
    "data1 = 5 * randn(100) + 50\n",
    "data2 = 5 * randn(100) + 51\n",
    "# summarize\n",
    "print('data1: mean=%.3f stdv=%.3f' % (mean(data1), std(data1)))\n",
    "print('data2: mean=%.3f stdv=%.3f' % (mean(data2), std(data2)))"
   ]
  },
  {
   "cell_type": "markdown",
   "metadata": {},
   "source": [
    "Running the example generates the data samples, then calculates and prints the mean and standard deviation for each sample, confirming their different distribution.\n",
    "\n",
    "# Mann-Whitney U Test\n",
    "\n",
    "The Mann-Whitney U test is a nonparametric statistical significance test for determining whether two independent same distribution.\n",
    "\n",
    "The test was named for Henry Mann and Donald Whitney, although it is sometimes called the Wilcoxon-Mann-Whitney test, also named for Frank Wilcoxon, who also developed a variation of the test.\n",
    "\n",
    "> The two samples are combined and rank ordered together. The strategy is to determine if the values from the two samples are randomly mixed in the rank ordering or if they are clustered at opposite ends when combined. A random rank order would mean that the two samples are not different, while a cluster of one sample values would indicate a difference between them.\n",
    "\n",
    "The default assumption or null hypothesis is that there is no difference between the distributions of the data samples. Rejection of this hypothesis suggests that there is likely some difference between the samples. More specifically, the test determined whether it is equally likely that anyramdomly selected observation from one sample will be greater or less than a sample in the pther distribution. If violated, it suggest differing distributions.\n",
    "\n",
    "- **Accept H0**:Sample distributions are equal.\n",
    "- **Reject H0**:Sample distributions are not equal.\n",
    "\n",
    "For the test to be effective, it requires at least 20 observations in each data sample.\n",
    "\n",
    "We can implement the Mann-Whitney U test in Python using the mannwhitneyu() SciPy function. The functions takes as arguments the two data samples. It returns the test statistic and the p-value.\n",
    "\n",
    "The example below deminstrates the Mann-Whitney U test on the test dataset."
   ]
  },
  {
   "cell_type": "code",
   "execution_count": 2,
   "metadata": {},
   "outputs": [
    {
     "name": "stdout",
     "output_type": "stream",
     "text": [
      "Statistics=4025.000, p=0.009\n",
      "Different distribution (reject H0)\n"
     ]
    }
   ],
   "source": [
    "# Mann-Whitney U test\n",
    "from numpy.random import seed\n",
    "from numpy.random import randn\n",
    "from scipy.stats import mannwhitneyu\n",
    "# seed the random number generator\n",
    "seed(1)\n",
    "# generate two independent samples\n",
    "data1 = 5 * randn(100) + 50\n",
    "data2 = 5 * randn(100) + 51\n",
    "# compare samples\n",
    "stat, p = mannwhitneyu(data1, data2)\n",
    "print('Statistics=%.3f, p=%.3f' % (stat, p))\n",
    "# interpret\n",
    "alpha = 0.05\n",
    "if p > alpha:\n",
    "\tprint('Same distribution (accept H0)')\n",
    "else:\n",
    "\tprint('Different distribution (reject H0)')"
   ]
  },
  {
   "cell_type": "markdown",
   "metadata": {},
   "source": [
    "Running the example calculates the test on the datasets and prints the statistic and p-value. \n",
    "\n",
    "The p-value strongly suggests that the sample distributions are different, as is expected.\n",
    "\n",
    "# Wilcoxon Signed-Rank Test\n",
    "\n",
    "In some cases, the data samples may be paired. \n",
    "\n",
    "There are many reasons why this may be the case, for example, the samples are related or matched in some way or represent two measurements of the same technique. More specifically, each sample is independent, but comes from the same population.\n",
    "\n",
    "Examples of paired samples in machine learning might be the same algorithm evaluated on different datasets or different algorithms evaluated on exactly the sametraining and test data.\n",
    "\n",
    "The samples are not independent, therefore the Mann-Whitney U test cannot be used. Instead, the Wilcoxon signed-rank test is used, also called the Wilcoxon Test, named for Franl Wilzoxon. It is the equivalent of the paired Student T-test, but for ranked data instead of real valued data with Gaussian distribution.\n",
    "\n",
    "> The Wilcoxon signed ranks test is a nonparametric statistical procedure for comparing two samples that are paired, or related. The patrametric equivalent to the Wilcoxon signed ranks test goes by names such as the Student's t-test, t-test for matched pairs, t-test for paired samples, or t-test for dependent samples.\n",
    "\n",
    "The default assumption for the test, the null hypothesis, is that the two samples have the same distribution.\n",
    "\n",
    "- **Accept H0**: Sample distributions are equal.\n",
    "- **Reject H0**: Sample distributions are not equal.\n",
    "\n",
    "For the test to be effective, it requires at least 20 obswervations in each data sample.\n",
    "\n",
    "The Wilcoxon signed-rank test can be implemented in Python using the wilcoxon() SciPy function. The function takes the two samples as arguments and returns the calculated statistic and p-value.\n",
    "\n",
    "The complete example is below, demonstrating the calculation of the Wilcoxon signed-rank test on the test problem. The two samples are  technically not paired, but we can pretend they are for the sake of demonstrating the calculation of this significance test."
   ]
  },
  {
   "cell_type": "code",
   "execution_count": 3,
   "metadata": {},
   "outputs": [
    {
     "name": "stdout",
     "output_type": "stream",
     "text": [
      "Statistics=1886.000, p=0.028\n",
      "Different distribution (reject H0)\n"
     ]
    }
   ],
   "source": [
    "# Wilcoxon signed-rank test\n",
    "from numpy.random import seed\n",
    "from numpy.random import randn\n",
    "from scipy.stats import wilcoxon\n",
    "# seed the random number generator\n",
    "seed(1)\n",
    "# generate two independent samples\n",
    "data1 = 5 * randn(100) + 50\n",
    "data2 = 5 * randn(100) + 51\n",
    "# compare samples\n",
    "stat, p = wilcoxon(data1, data2)\n",
    "print('Statistics=%.3f, p=%.3f' % (stat, p))\n",
    "# interpret\n",
    "alpha = 0.05\n",
    "if p > alpha:\n",
    "\tprint('Same distribution (accept H0)')\n",
    "else:\n",
    "\tprint('Different distribution (reject H0)')"
   ]
  },
  {
   "cell_type": "markdown",
   "metadata": {},
   "source": [
    "Running the example calculates and prints the statistic and prints the result.\n",
    "\n",
    "The p-value is interpreted strongly suggesting that the samples are drawn from different distributions.\n",
    "\n",
    "# Kruskal-Wallis H Test\n",
    "\n",
    "When workingwith significance tests, such as Mann-Whitney U and the Wilcoxon signed-rank tests, comparisons between data samples must be performed pair-wise.\n",
    "\n",
    "This can be inefficient if you have many data samples and you are only interested in whether two or more samples have a different distribution.\n",
    "\n",
    "The Kurskal-Wakkis test is a nonparametric version of the one-way analysis of variance test or ANOVA for short. It is named for the developers of the method, William Kruskal and Wilson Wallis. This test can be used to determine whether more than two independent samples have a different distribution. It can be thought of as the generalization of the Mann-Whitmey U test.\n",
    "\n",
    "The default assumption or the null hypothesis is that all data samples were drawn from the same distribution. Specifically, that the population medians of all groups are equal. A rejection of the null hypothesis indeicates that there is enough evidence to suggest that one or more samples dominate another sample, but the test does not indicate which samples or by how much.\n",
    "\n",
    "> When the Kruskal -Wallis H-test leads to significant results, then at least one of the samples is different from the other samples. However, the test does not identify where the difference(s) occur. Moreover, it does not identify how many differences occur. To identify the particular differences between sample pairs, a researcher might use sample contrasts, or post hoc tests, to analyze the specific sample pairs for significant difference(s). The Mann-Whitney U-test is a useful method for performing sample contrasts between individual sample sets.\n",
    "\n",
    "- **Accept H0**: All sample distributions are equal.\n",
    "- **Reject H0**: One or more sample distributions are not equal.\n",
    "\n",
    "Each data sample must be independent, have 5 or more observations, and the data samples can differ in size.\n",
    "\n",
    "We can update must be independent, have 5 or more observations, and the data samples can differ in size. \n",
    "\n",
    "We can update the test problem to have 3 data samples, instead of 2, two of which have the same sample mean. Given that one sample differs, we would expect the test to discover the difference and reject the null hypothesis.\n",
    "\n",
    "The Kruskal-Wallis H-test can be implemented in Python using the kruskal() SciPy function. It takes two or more data samples as arguments and returns the test statistic and p-value as the result.\n",
    "\n",
    "The complete example is listed below."
   ]
  },
  {
   "cell_type": "code",
   "execution_count": 4,
   "metadata": {},
   "outputs": [
    {
     "name": "stdout",
     "output_type": "stream",
     "text": [
      "Statistics=6.051, p=0.049\n",
      "Different distributions (reject H0)\n"
     ]
    }
   ],
   "source": [
    "# Kruskal-Wallis H-test\n",
    "from numpy.random import seed\n",
    "from numpy.random import randn\n",
    "from scipy.stats import kruskal\n",
    "# seed the random number generator\n",
    "seed(1)\n",
    "# generate three independent samples\n",
    "data1 = 5 * randn(100) + 50\n",
    "data2 = 5 * randn(100) + 50\n",
    "data3 = 5 * randn(100) + 52\n",
    "# compare samples\n",
    "stat, p = kruskal(data1, data2, data3)\n",
    "print('Statistics=%.3f, p=%.3f' % (stat, p))\n",
    "# interpret\n",
    "alpha = 0.05\n",
    "if p > alpha:\n",
    "\tprint('Same distributions (accept H0)')\n",
    "else:\n",
    "\tprint('Different distributions (reject H0)')"
   ]
  },
  {
   "cell_type": "markdown",
   "metadata": {},
   "source": [
    "Running the example calculates the test and prints the results. \n",
    "\n",
    "The p-value is interpreted, correctly rejecting the null hypothesis that all samples have the same distribution.\n",
    "\n",
    "# Friedman Test \n",
    "\n",
    "As in the previous example, we may have more than two different samples and an interest in whether all samples have the same distribution or not.\n",
    "\n",
    "If the samples are paired in some way, such as repeated measures, then the Kruskal-Wallis H test would not be apprepriate. Instead, the Friedman test can be used, named for Milton Friedman.\n",
    "\n",
    "The Friedman test is the nonparametric version of the repeared measures analysis of variance test, or repeated measures ANOVA. The test can be thought of as a generalization of the Kruskal-Wallis H Test to more than two samples.\n",
    "\n",
    "The default assumption, or null hypothesis, is that the multiple paired samples have the samedistribution. A rejection of the null hypothesis indicates that one or more of the paired samples has a different distribution.\n",
    "\n",
    "- **Accept H0**: Paired sample distributions are equal.\n",
    "- **Reject H0**: Paired sample distributions are not equal.\n",
    "\n",
    "The test assumes two or more paired data samples with 10 or more samples per group.\n",
    "\n",
    "> The Friedman test is a nonparametric statistical procedure for comparing more than two sample that are related. The parametric equivalent to this test is the repeated measures analysis of variance (ANOVA). When the Friedman test leads to significant results, at least one of the samples is different from the other samples.\n",
    "\n",
    "We can implement the Friedman test in Python using the friedmanchisquare() SciPy function. This function takes as arguments the data samples to compare and returns the calculated statistic and p-value.\n",
    "\n",
    "This significance test can be demonstrated on the same variation of the test dataset as was used in the previous section. Namely three samples, two with the same population mean and one with a slightly different mean. Although the samples are not paired, we expect the test to discover that not all of the samples have the same distribution.\n",
    "\n",
    "The complete code example is listed below."
   ]
  },
  {
   "cell_type": "code",
   "execution_count": 5,
   "metadata": {},
   "outputs": [
    {
     "name": "stdout",
     "output_type": "stream",
     "text": [
      "Statistics=9.360, p=0.009\n",
      "Different distributions (reject H0)\n"
     ]
    }
   ],
   "source": [
    "# Friedman test\n",
    "from numpy.random import seed\n",
    "from numpy.random import randn\n",
    "from scipy.stats import friedmanchisquare\n",
    "# seed the random number generator\n",
    "seed(1)\n",
    "# generate three independent samples\n",
    "data1 = 5 * randn(100) + 50\n",
    "data2 = 5 * randn(100) + 50\n",
    "data3 = 5 * randn(100) + 52\n",
    "# compare samples\n",
    "stat, p = friedmanchisquare(data1, data2, data3)\n",
    "print('Statistics=%.3f, p=%.3f' % (stat, p))\n",
    "# interpret\n",
    "alpha = 0.05\n",
    "if p > alpha:\n",
    "\tprint('Same distributions (accept H0)')\n",
    "else:\n",
    "\tprint('Different distributions (reject H0)')"
   ]
  },
  {
   "cell_type": "markdown",
   "metadata": {},
   "source": [
    "Running the example calculates the test on the three data samples and prints the test statistic and p-value.\n",
    "\n",
    "The interpretation of the p-value correctly indicates that at least one sample has a different distribution.\n",
    "\n",
    "# Extensions \n",
    "\n",
    "This section lists someideas for extending the tutorial that you may wish to explore.\n",
    "\n",
    "- Update all examples to operate on dat samples that have the same distribution.\n",
    "- Create a flowchart for choosing each of the statistical significance tests giver the requirements and behavior of each test.\n",
    "- Consider 3 cases of comparing data samples in a machine learning project, assume a non-Gaussian distribution for the samples, and suggest the type of test that could be used in each case."
   ]
  }
 ],
 "metadata": {
  "kernelspec": {
   "display_name": "Python 3",
   "language": "python",
   "name": "python3"
  },
  "language_info": {
   "codemirror_mode": {
    "name": "ipython",
    "version": 3
   },
   "file_extension": ".py",
   "mimetype": "text/x-python",
   "name": "python",
   "nbconvert_exporter": "python",
   "pygments_lexer": "ipython3",
   "version": "3.6.3"
  }
 },
 "nbformat": 4,
 "nbformat_minor": 2
}
