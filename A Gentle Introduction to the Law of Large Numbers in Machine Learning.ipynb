{
 "cells": [
  {
   "cell_type": "markdown",
   "metadata": {},
   "source": [
    "### The law of large numbers supports the intuition that the sample becomes more representative of the population as its size is increased.\n",
    "### How to develop a small example in Python to demonstrate the decrease in error from the increase in sample size.\n",
    "### The law of large numbers is critical for understanding the selection of training datasets, test datasets m and in the evaluation of model skill in machine learning.\n",
    "\n",
    "# Law of Large Numbers\n",
    "\n",
    "The law of large numbers said that the average result from repeating an experiment multiple times will better approximate the true or expected underlying result.\n",
    "\n",
    "We can say that as the size of the sample increases, the mean value of the sample will better approximate the mean or expected value in the population. As the sample size goes to infinity, the sample mean will converge to the population mean.\n",
    "\n",
    "## Independent and Identically Distributed\n",
    "\n",
    "It is important to be clear that the observations in the sample must be independent.\n",
    "\n",
    "This means that the trial is run in an identical manner and does not depend in the results of any other trial. This is oftern reasonable and easy to achieve in computers, although can be diffcult elsewhere(e.g. how do you achieve identically random rolls of a dice?)\n",
    "\n",
    "In statistics, this expectation is called \"*independent and identically distributed*\", or IID, iid, or i.i.d. for short. This is to ensure that the samples are indeed frawn from the same underlying population distribution.\n",
    "\n",
    "## Regression to the Mean\n",
    "\n",
    "The law of large numbers helps us understand why we cannot trust a single observation from an experiment in isolation.\n",
    "\n",
    "We expect that a single result or the mean result from a small sample is likely. That is close to the central tendency, the mean of the population distribution. It may not be; in fact, it may be very strange or unlikely.\n",
    "\n",
    "The law reminds us to repeat the experiment in order to develop a large and representative sample of observations before we start making inferences about what the result means.\n",
    "\n",
    "As we increase the sample size, the finding or mean of the sample will move back toward the population mean, back toward the true inderlying expected value. This is called regression to the mean or sometimes reversion to the mean.\n",
    "\n",
    "It is why we must be skeptical of inderences from small sample sizes, called small n.\n",
    "\n",
    "## Law of Truly Large Numbers \n",
    "\n",
    "Related to the regression to the mean is the idea of the law of truly large numbers.\n",
    "\n",
    "This is the idea what when we start investigating or working with extremely large samples of observations, we increase the likelihood of seeing something strange. That by having so many samples of the underlying population distribution, the sample will contain some astronomically rare events.\n",
    "\n",
    "Again we must be wary not to make inderences from single cases.\n",
    "\n",
    "This is especially important to consider when running queries and investigating big data.\n",
    "\n",
    "# Worked Example \n",
    "\n",
    "We can demonstrate the law of large numbers with a small worked example.\n",
    "\n",
    "First, we can design an idealized underlying distribution. We will use a Gaussian distribution with a mean of 50 and a standard deviation of 5. The expected value or mean of this population is therefore 50.\n",
    "\n",
    "Below is some code that generates a plot of this idealized distribution."
   ]
  },
  {
   "cell_type": "code",
   "execution_count": 1,
   "metadata": {},
   "outputs": [
    {
     "data": {
      "image/png": "[encoded data removed]",
      "text/plain": [
       "<matplotlib.figure.Figure at 0x1315ec83a58>"
      ]
     },
     "metadata": {},
     "output_type": "display_data"
    }
   ],
   "source": [
    "# idealized population distribution\n",
    "from numpy import arange\n",
    "from matplotlib import pyplot\n",
    "from scipy.stats import norm\n",
    "# x-axis for the plot\n",
    "xaxis = arange(30, 70, 1)\n",
    "# y-axis for the plot\n",
    "yaxis = norm.pdf(xaxis, 50, 5)\n",
    "# plot ideal population\n",
    "pyplot.plot(xaxis, yaxis)\n",
    "pyplot.show()"
   ]
  },
  {
   "cell_type": "markdown",
   "metadata": {},
   "source": [
    "Running the code creates a plot of the designed pipulation with the familiar bell shape.\n",
    "\n",
    "Now, we can pretend to forget everything that we know about the population and make independent random samples from the population.\n",
    "\n",
    "We can create samples of different sizes and calculate the mean. Given out intuition and the law of large numbers, we expect that as the size of the sample is increased, the sample mean will better approximate the population mean.\n",
    "\n",
    "The example below calculates samples of different sizes then prints the sample means."
   ]
  },
  {
   "cell_type": "code",
   "execution_count": 2,
   "metadata": {},
   "outputs": [
    {
     "name": "stdout",
     "output_type": "stream",
     "text": [
      "[49.514295545969503, 50.371593294898695, 50.291965339029801, 50.152115768933797, 50.039550335287757]\n"
     ]
    },
    {
     "data": {
      "image/png": "[encoded data removed]",
      "text/plain": [
       "<matplotlib.figure.Figure at 0x13160afb4a8>"
      ]
     },
     "metadata": {},
     "output_type": "display_data"
    }
   ],
   "source": [
    "# demonstrate the law of large numbers\n",
    "from numpy.random import seed\n",
    "from numpy.random import randn\n",
    "from numpy import mean\n",
    "from numpy import array\n",
    "from matplotlib import pyplot\n",
    "# seed the random number generator\n",
    "seed(1)\n",
    "# sample sizes\n",
    "sizes = [10, 100, 500, 1000, 10000]\n",
    "# generate samples of different sizes and calculate their means\n",
    "means = [mean(5 * randn(size) + 50) for size in sizes]\n",
    "print(means)\n",
    "# plot sample mean error vs sample size\n",
    "pyplot.scatter(sizes, array(means)-50)\n",
    "pyplot.show()"
   ]
  },
  {
   "cell_type": "markdown",
   "metadata": {},
   "source": [
    "Running the example forst prints the means of each sample. \n",
    "\n",
    "We can see a loose trend of the sample mean getting closer to 50.0 as the sample size increases.\n",
    "\n",
    "Note too that this sample of sample means too must suffer the law of law of large numbers. For example, by chanve you may get a very accurate estimate of the population mean with the mean of a small sample.\n",
    "\n",
    "The example also creates a plot that compares the size of the sample to the error of the sample mean from the population mean. Generally, we can see that larger sample sizes have less error, and we would expect this trend to continue, on average.\n",
    "\n",
    "We can also see that some sample means overestimate and some underestimate. Do not fall into the trap of assuming that the underestimate will fall on one side or another.\n",
    "\n",
    "# Implications in Machine Learning \n",
    "\n",
    "The law of large number has important implications in applied machine learning.\n",
    "\n",
    "Let's take a moment to highlight a few of these implications.\n",
    "\n",
    "## Training Data\n",
    "\n",
    "The data used to train the model must be representative of the observations form the domain.\n",
    "\n",
    "This really means that it must contain enough information to generalize to the true unknown and underlying distribution of the population.\n",
    "\n",
    "#### This is easy to conceptualize with a single input variable for a model, but is also just as important when you have multiple input variables. There will be unknown relationships or dependencies vetween the input variables and together, the input data will represent a multivariate distribution from which observations will be drawn to comprise your training sample.\n",
    "\n",
    "#### Keep this in mind during data collection, data cleaning and data preparation.\n",
    "\n",
    "You may choose to exclude sections of the underlying population by setting hard limits on observed values(e.g. for outliers) where you expect data to be too sparse to model effectively.\n",
    "\n",
    "## Test Data\n",
    "\n",
    "The thoughts given to the training dataset must also be given to the test dataset.\n",
    "\n",
    "This is often neglected with the blind use of 80/20 spits for train/test data or the blind use of 10-fold cross-validation, even on datasets where the size of 1/10th of the available data may not be a suitable representative of observations from the problem domain.\n",
    "\n",
    "## Model Skill Evaluation\n",
    "\n",
    "Consider the law of large numbers when presenting the estimated skill of a amodel in unseen data.\n",
    "\n",
    "It provides a defense for not simply reporting or proceeding with a model based on a skill score from a single train/test evaluation.\n",
    "\n",
    "# Extensions\n",
    "\n",
    "This section lists some ideas for extending the tutorial that you may wish to explore.\n",
    "\n",
    "- Brainstorm two additional areas of machine learning where the law of large numbers applies.\n",
    "- Find five research papers where you are skeptical of the results given the law of large numbers.\n",
    "- Develop your own ideal distribution and samples and plot the relationship between sample size and sample mean error.\n"
   ]
  }
 ],
 "metadata": {
  "kernelspec": {
   "display_name": "Python 3",
   "language": "python",
   "name": "python3"
  },
  "language_info": {
   "codemirror_mode": {
    "name": "ipython",
    "version": 3
   },
   "file_extension": ".py",
   "mimetype": "text/x-python",
   "name": "python",
   "nbconvert_exporter": "python",
   "pygments_lexer": "ipython3",
   "version": "3.6.3"
  }
 },
 "nbformat": 4,
 "nbformat_minor": 2
}
